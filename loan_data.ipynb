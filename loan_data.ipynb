{
 "cells": [
  {
   "cell_type": "markdown",
   "id": "d71a631b",
   "metadata": {},
   "source": [
    "# Loan data processing project"
   ]
  },
  {
   "cell_type": "code",
   "execution_count": 1,
   "id": "0adcd3a9",
   "metadata": {},
   "outputs": [],
   "source": [
    "import numpy as np\n",
    "np.set_printoptions(suppress = True, linewidth = 100, precision = 2)"
   ]
  },
  {
   "cell_type": "markdown",
   "id": "8e21af85",
   "metadata": {},
   "source": [
    "Below is a helper function for creating checkpoints of the data, we shall need it later on."
   ]
  },
  {
   "cell_type": "code",
   "execution_count": 2,
   "id": "a4a7c28e",
   "metadata": {},
   "outputs": [],
   "source": [
    "def checkpoint(file_name, checkpoint_header,checkpoint_data):\n",
    "    np.savez(file_name, header = checkpoint_header, data = checkpoint_data)\n",
    "    checkpoint_variable = np.load(file_name + \".npz\")\n",
    "    return(checkpoint_variable)"
   ]
  },
  {
   "cell_type": "markdown",
   "id": "434f8cc6",
   "metadata": {},
   "source": [
    "## Loading and inspecting the data"
   ]
  },
  {
   "cell_type": "code",
   "execution_count": 3,
   "id": "44553f85",
   "metadata": {},
   "outputs": [
    {
     "name": "stdout",
     "output_type": "stream",
     "text": [
      "[[48010226.           nan    35000.   ...         nan         nan     9452.96]\n",
      " [57693261.           nan    30000.   ...         nan         nan     4679.7 ]\n",
      " [59432726.           nan    15000.   ...         nan         nan     1969.83]\n",
      " ...\n",
      " [50415990.           nan    10000.   ...         nan         nan     2185.64]\n",
      " [46154151.           nan         nan ...         nan         nan     3199.4 ]\n",
      " [66055249.           nan    10000.   ...         nan         nan      301.9 ]]\n",
      "\n",
      "Shape: (10000, 14)\n"
     ]
    }
   ],
   "source": [
    "raw_data = np.genfromtxt(r\"loan-data.csv\", delimiter = ';', skip_header = 1, autostrip = True, encoding='cp855')\n",
    "print(raw_data)\n",
    "print('\\nShape:',raw_data.shape)"
   ]
  },
  {
   "cell_type": "markdown",
   "id": "dc85a4bb",
   "metadata": {},
   "source": [
    "The data has 10000 rows and 14 columns. A notable aspect is that there is a lot of missing data (`nan` values). "
   ]
  },
  {
   "cell_type": "code",
   "execution_count": 4,
   "id": "256c6b24",
   "metadata": {},
   "outputs": [
    {
     "name": "stdout",
     "output_type": "stream",
     "text": [
      "88005\n"
     ]
    }
   ],
   "source": [
    "print(np.isnan(raw_data).sum())"
   ]
  },
  {
   "cell_type": "markdown",
   "id": "5caf8f33",
   "metadata": {},
   "source": [
    "Let us collect minimum, maximum, and mean values from all columns."
   ]
  },
  {
   "cell_type": "code",
   "execution_count": 5,
   "id": "5238d1a7",
   "metadata": {},
   "outputs": [
    {
     "name": "stdout",
     "output_type": "stream",
     "text": [
      "[[  373332.           nan     1000.           nan     1000.           nan        6.         31.42\n",
      "          nan         nan         nan         nan         nan        0.  ]\n",
      " [54015809.19         nan    15273.46         nan    15311.04         nan       16.62      440.92\n",
      "          nan         nan         nan         nan         nan     3143.85]\n",
      " [68616519.           nan    35000.           nan    35000.           nan       28.99     1372.97\n",
      "          nan         nan         nan         nan         nan    41913.62]]\n",
      "(3, 14)\n"
     ]
    },
    {
     "name": "stderr",
     "output_type": "stream",
     "text": [
      "/var/folders/14/kmkw5ndj0kq_53pqzfg6fv2m0000gn/T/ipykernel_35611/2952517997.py:2: RuntimeWarning: Mean of empty slice\n",
      "  temporary_mean = np.nanmean(raw_data, axis = 0)\n",
      "/var/folders/14/kmkw5ndj0kq_53pqzfg6fv2m0000gn/T/ipykernel_35611/2952517997.py:3: RuntimeWarning: All-NaN slice encountered\n",
      "  temporary_stats = np.array([np.nanmin(raw_data, axis = 0), temporary_mean, np.nanmax(raw_data, axis = 0)])\n"
     ]
    }
   ],
   "source": [
    "temporary_fill = np.nanmax(raw_data) + 1 \n",
    "temporary_mean = np.nanmean(raw_data, axis = 0)\n",
    "temporary_stats = np.array([np.nanmin(raw_data, axis = 0), temporary_mean, np.nanmax(raw_data, axis = 0)])\n",
    "print(temporary_stats)\n",
    "print(temporary_stats.shape)"
   ]
  },
  {
   "cell_type": "markdown",
   "id": "b9a4048e",
   "metadata": {},
   "source": [
    "The data is heterogeneous, it contains both characters and numbers. This partly introduces `nan` values. So, we split the data, for convenience."
   ]
  },
  {
   "cell_type": "code",
   "execution_count": 6,
   "id": "61bd36a5",
   "metadata": {},
   "outputs": [
    {
     "name": "stdout",
     "output_type": "stream",
     "text": [
      "[ 1  3  5  8  9 10 11 12]\n",
      "[ 0  2  4  6  7 13]\n"
     ]
    }
   ],
   "source": [
    "columns_strings = np.argwhere(np.isnan(temporary_mean)).squeeze()\n",
    "print(columns_strings)\n",
    "columns_numeric = np.argwhere(np.isnan(temporary_mean) == False).squeeze()\n",
    "print(columns_numeric)"
   ]
  },
  {
   "cell_type": "markdown",
   "id": "faf0174a",
   "metadata": {},
   "source": [
    "Let us re-import the data correctly. First, string columns."
   ]
  },
  {
   "cell_type": "code",
   "execution_count": 7,
   "id": "db8a444a",
   "metadata": {},
   "outputs": [
    {
     "name": "stdout",
     "output_type": "stream",
     "text": [
      "[['May-15' 'Current' '36 months' ... 'Verified'\n",
      "  'https://www.lendingclub.com/browse/loanDetail.action?loan_id=48010226' 'CA']\n",
      " ['' 'Current' '36 months' ... 'Source Verified'\n",
      "  'https://www.lendingclub.com/browse/loanDetail.action?loan_id=57693261' 'NY']\n",
      " ['Sep-15' 'Current' '36 months' ... 'Verified'\n",
      "  'https://www.lendingclub.com/browse/loanDetail.action?loan_id=59432726' 'PA']\n",
      " ...\n",
      " ['Jun-15' 'Current' '36 months' ... 'Source Verified'\n",
      "  'https://www.lendingclub.com/browse/loanDetail.action?loan_id=50415990' 'CA']\n",
      " ['Apr-15' 'Current' '36 months' ... 'Source Verified'\n",
      "  'https://www.lendingclub.com/browse/loanDetail.action?loan_id=46154151' 'OH']\n",
      " ['Dec-15' 'Current' '36 months' ... ''\n",
      "  'https://www.lendingclub.com/browse/loanDetail.action?loan_id=66055249' 'IL']]\n",
      "\n",
      "Shape: (10000, 8)\n"
     ]
    },
    {
     "name": "stderr",
     "output_type": "stream",
     "text": [
      "/var/folders/14/kmkw5ndj0kq_53pqzfg6fv2m0000gn/T/ipykernel_35611/4026404118.py:6: DeprecationWarning: `np.str` is a deprecated alias for the builtin `str`. To silence this warning, use `str` by itself. Doing this will not modify any behavior and is safe. If you specifically wanted the numpy scalar type, use `np.str_` here.\n",
      "Deprecated in NumPy 1.20; for more details and guidance: https://numpy.org/devdocs/release/1.20.0-notes.html#deprecations\n",
      "  dtype = np.str,\n"
     ]
    }
   ],
   "source": [
    "loan_data_strings = np.genfromtxt(r\"loan-data.csv\", \n",
    "                                  delimiter = ';', \n",
    "                                  skip_header = 1, \n",
    "                                  autostrip = True, \n",
    "                                  usecols = columns_strings,\n",
    "                                  dtype = np.str,\n",
    "                                  encoding='cp855')\n",
    "print(loan_data_strings)\n",
    "print('\\nShape:',loan_data_strings.shape)"
   ]
  },
  {
   "cell_type": "markdown",
   "id": "2bb31b18",
   "metadata": {},
   "source": [
    "Second, numeric columns."
   ]
  },
  {
   "cell_type": "code",
   "execution_count": 8,
   "id": "41520638",
   "metadata": {},
   "outputs": [
    {
     "name": "stdout",
     "output_type": "stream",
     "text": [
      "[[48010226.      35000.      35000.         13.33     1184.86     9452.96]\n",
      " [57693261.      30000.      30000.   68616520.        938.57     4679.7 ]\n",
      " [59432726.      15000.      15000.   68616520.        494.86     1969.83]\n",
      " ...\n",
      " [50415990.      10000.      10000.   68616520.   68616520.       2185.64]\n",
      " [46154151.   68616520.      10000.         16.55      354.3      3199.4 ]\n",
      " [66055249.      10000.      10000.   68616520.        309.97      301.9 ]]\n",
      "\n",
      "Shape: (10000, 6)\n"
     ]
    }
   ],
   "source": [
    "loan_data_numeric = np.genfromtxt(r\"loan-data.csv\", \n",
    "                                  delimiter = ';', \n",
    "                                  skip_header = 1, \n",
    "                                  autostrip = True, \n",
    "                                  usecols = columns_numeric,\n",
    "                                  filling_values = temporary_fill,\n",
    "                                  encoding='cp855')\n",
    "print(loan_data_numeric)\n",
    "print('\\nShape:',loan_data_numeric.shape)"
   ]
  },
  {
   "cell_type": "markdown",
   "id": "1247163d",
   "metadata": {},
   "source": [
    "Next, let us import the header (column names)."
   ]
  },
  {
   "cell_type": "code",
   "execution_count": 9,
   "id": "0e11c624",
   "metadata": {},
   "outputs": [
    {
     "name": "stdout",
     "output_type": "stream",
     "text": [
      "['id' 'issue_d' 'loan_amnt' 'loan_status' 'funded_amnt' 'term' 'int_rate' 'installment' 'grade'\n",
      " 'sub_grade' 'verification_status' 'url' 'addr_state' 'total_pymnt']\n"
     ]
    },
    {
     "name": "stderr",
     "output_type": "stream",
     "text": [
      "/var/folders/14/kmkw5ndj0kq_53pqzfg6fv2m0000gn/T/ipykernel_35611/3802774864.py:5: DeprecationWarning: `np.str` is a deprecated alias for the builtin `str`. To silence this warning, use `str` by itself. Doing this will not modify any behavior and is safe. If you specifically wanted the numpy scalar type, use `np.str_` here.\n",
      "Deprecated in NumPy 1.20; for more details and guidance: https://numpy.org/devdocs/release/1.20.0-notes.html#deprecations\n",
      "  dtype = np.str,\n"
     ]
    }
   ],
   "source": [
    "header_full = np.genfromtxt(r\"loan-data.csv\", \n",
    "                              delimiter = ';',  \n",
    "                              autostrip = True, \n",
    "                              skip_footer = raw_data.shape[0],\n",
    "                              dtype = np.str,\n",
    "                              encoding='cp855')\n",
    "print(header_full)"
   ]
  },
  {
   "cell_type": "markdown",
   "id": "993d4d0b",
   "metadata": {},
   "source": [
    "We also may need headers for string an numeric subsets of the data."
   ]
  },
  {
   "cell_type": "code",
   "execution_count": 10,
   "id": "b87fa7e8",
   "metadata": {},
   "outputs": [
    {
     "name": "stdout",
     "output_type": "stream",
     "text": [
      "String columns: ['issue_d' 'loan_status' 'term' 'grade' 'sub_grade' 'verification_status' 'url' 'addr_state']\n",
      "Numeric columns: ['id' 'loan_amnt' 'funded_amnt' 'int_rate' 'installment' 'total_pymnt']\n"
     ]
    }
   ],
   "source": [
    "header_strings, header_numeric = header_full[columns_strings], header_full[columns_numeric]\n",
    "print('String columns:',header_strings)\n",
    "print('Numeric columns:',header_numeric)"
   ]
  },
  {
   "cell_type": "markdown",
   "id": "65b54037",
   "metadata": {},
   "source": [
    "## Manipulating Test Data: Issue Date"
   ]
  },
  {
   "cell_type": "code",
   "execution_count": 11,
   "id": "f6afe283",
   "metadata": {},
   "outputs": [
    {
     "name": "stdout",
     "output_type": "stream",
     "text": [
      "['issue_d' 'loan_status' 'term' 'grade' 'sub_grade' 'verification_status' 'url' 'addr_state']\n",
      "['May-15' '' 'Sep-15' ... 'Jun-15' 'Apr-15' 'Dec-15']\n",
      "['' 'Apr-15' 'Aug-15' 'Dec-15' 'Feb-15' 'Jan-15' 'Jul-15' 'Jun-15' 'Mar-15' 'May-15' 'Nov-15'\n",
      " 'Oct-15' 'Sep-15']\n",
      "['' 'Apr' 'Aug' 'Dec' 'Feb' 'Jan' 'Jul' 'Jun' 'Mar' 'May' 'Nov' 'Oct' 'Sep']\n"
     ]
    },
    {
     "data": {
      "text/plain": [
       "array(['0', '1', '10', '11', '12', '2', '3', '4', '5', '6', '7', '8', '9'], dtype='<U69')"
      ]
     },
     "execution_count": 11,
     "metadata": {},
     "output_type": "execute_result"
    }
   ],
   "source": [
    "print(header_strings)\n",
    "header_strings[0] = \"issue_date\"\n",
    "\n",
    "print(loan_data_strings[:,0])\n",
    "\n",
    "print(np.unique(loan_data_strings[:,0]))\n",
    "\n",
    "loan_data_strings[:,0] = np.chararray.strip(loan_data_strings[:,0],\"-15\")\n",
    "\n",
    "print(np.unique(loan_data_strings[:,0]))\n",
    "months = np.array(['', 'Jan', 'Feb', 'Mar', 'Apr', 'May', 'Jun', 'Jul', 'Aug', 'Sep', 'Oct', 'Nov', 'Dec'])\n",
    "\n",
    "for i in range(13):\n",
    "    loan_data_strings[:,0] = np.where(loan_data_strings[:,0] == months[i],\n",
    "                                       i,\n",
    "                                       loan_data_strings[:,0])\n",
    "np.unique(loan_data_strings[:, 0])"
   ]
  },
  {
   "cell_type": "markdown",
   "id": "4e5e523b",
   "metadata": {},
   "source": [
    "## Manipulating Text Data: Loan Status"
   ]
  },
  {
   "cell_type": "code",
   "execution_count": 12,
   "id": "c02aa50e",
   "metadata": {},
   "outputs": [
    {
     "name": "stdout",
     "output_type": "stream",
     "text": [
      "['' 'Charged Off' 'Current' 'Default' 'Fully Paid' 'In Grace Period' 'Issued' 'Late (16-30 days)'\n",
      " 'Late (31-120 days)']\n",
      "['0' '1']\n",
      "['' '36 months' '60 months']\n",
      "['36' '36' '36' ... '36' '36' '36']\n"
     ]
    },
    {
     "data": {
      "text/plain": [
       "array(['36', '60'], dtype='<U69')"
      ]
     },
     "execution_count": 12,
     "metadata": {},
     "output_type": "execute_result"
    }
   ],
   "source": [
    "print(np.unique(loan_data_strings[:,1]))\n",
    "\n",
    "bad_status = ['', 'Charged Off', 'Default', 'Late (31-120 days)']\n",
    "loan_data_strings[:,1] = np.where(np.isin(loan_data_strings[:,1], bad_status),0,1)\n",
    "print(np.unique(loan_data_strings[:,1]))\n",
    "\n",
    "#Term\n",
    "print(np.unique(loan_data_strings[:,2]))\n",
    "loan_data_strings[:,2] = np.chararray.strip(loan_data_strings[:,2],\" months\")\n",
    "print(loan_data_strings[:,2])\n",
    "header_strings[2] = \"term_months\"\n",
    "loan_data_strings[:,2] = np.where(loan_data_strings[:,2] == '',\n",
    "                                 '60',\n",
    "                                 loan_data_strings[:,2])\n",
    "\n",
    "np.unique(loan_data_strings[:,2])"
   ]
  },
  {
   "cell_type": "markdown",
   "id": "bb0ef3c5",
   "metadata": {},
   "source": [
    "## Manipulating Text Data: Grade and Subgrade"
   ]
  },
  {
   "cell_type": "code",
   "execution_count": 13,
   "id": "c3788024",
   "metadata": {},
   "outputs": [
    {
     "name": "stdout",
     "output_type": "stream",
     "text": [
      "['' 'A' 'B' 'C' 'D' 'E' 'F' 'G']\n",
      "['' 'A1' 'A2' 'A3' 'A4' 'A5' 'B1' 'B2' 'B3' 'B4' 'B5' 'C1' 'C2' 'C3' 'C4' 'C5' 'D1' 'D2' 'D3' 'D4'\n",
      " 'D5' 'E1' 'E2' 'E3' 'E4' 'E5' 'F1' 'F2' 'F3' 'F4' 'F5' 'G1' 'G2' 'G3' 'G4' 'G5']\n"
     ]
    }
   ],
   "source": [
    "print(np.unique(loan_data_strings[:,3]))\n",
    "print(np.unique(loan_data_strings[:,4]))\n",
    "#Filling Subgrade\n",
    "for i in np.unique(loan_data_strings[:,3])[1:]:\n",
    "    loan_data_strings[:,4] = np.where((loan_data_strings[:,4] == '') & (loan_data_strings[:,3] == i),\n",
    "    i + '5',\n",
    "    loan_data_strings[:,4])"
   ]
  },
  {
   "cell_type": "code",
   "execution_count": 14,
   "id": "0c5267e2",
   "metadata": {},
   "outputs": [
    {
     "name": "stdout",
     "output_type": "stream",
     "text": [
      "sub_grade\n"
     ]
    },
    {
     "data": {
      "text/plain": [
       "array(['1', '10', '11', '12', '13', '14', '15', '16', '17', '18', '19', '2', '20', '21', '22',\n",
       "       '23', '24', '25', '26', '27', '28', '29', '3', '30', '31', '32', '33', '34', '35', '36',\n",
       "       '4', '5', '6', '7', '8', '9'], dtype='<U69')"
      ]
     },
     "execution_count": 14,
     "metadata": {},
     "output_type": "execute_result"
    }
   ],
   "source": [
    "#Removing Grade\n",
    "loan_data_strings = np.delete(loan_data_strings, 3, axis = 1)\n",
    "loan_data_strings[:,3]\n",
    "header_strings = np.delete(header_strings,3)\n",
    "print(header_strings[3])\n",
    "#Converting Subgrade\n",
    "keys = list(np.unique(loan_data_strings[:,3]))\n",
    "values = list (range(1, np.unique(loan_data_strings[:,3]).shape[0] + 1))\n",
    "dict_subgrade = dict(zip(keys,values))  \n",
    "\n",
    "for i in np.unique(loan_data_strings[:,3]):\n",
    "    loan_data_strings[:,3] = np.where(loan_data_strings[:,3] == i,\n",
    "                             dict_subgrade[i],\n",
    "                             loan_data_strings[:,3])\n",
    "    \n",
    "np.unique(loan_data_strings[:,3])"
   ]
  },
  {
   "cell_type": "code",
   "execution_count": 15,
   "id": "5e8549e0",
   "metadata": {},
   "outputs": [
    {
     "name": "stdout",
     "output_type": "stream",
     "text": [
      "['' 'Not Verified' 'Source Verified' 'Verified']\n"
     ]
    }
   ],
   "source": [
    "print(np.unique(loan_data_strings[:,4]))"
   ]
  },
  {
   "cell_type": "markdown",
   "id": "c84e760e",
   "metadata": {},
   "source": [
    "## Manipulating Text Data: Verification Status"
   ]
  },
  {
   "cell_type": "code",
   "execution_count": 16,
   "id": "30724c9f",
   "metadata": {},
   "outputs": [
    {
     "name": "stdout",
     "output_type": "stream",
     "text": [
      "['0' '1']\n"
     ]
    }
   ],
   "source": [
    "#print(np.unique(loan_data_strings[:,4]))\n",
    "loan_data_strings[:,4] = np.where((loan_data_strings[:,4]=='') | (loan_data_strings[:,4]=='Not Verified'), 0, 1)\n",
    "print(np.unique(loan_data_strings[:,4]))"
   ]
  },
  {
   "cell_type": "markdown",
   "id": "642b6de4",
   "metadata": {},
   "source": [
    "## Manipulating Text Data: URL"
   ]
  },
  {
   "cell_type": "code",
   "execution_count": 17,
   "id": "8e1816d4",
   "metadata": {},
   "outputs": [
    {
     "name": "stdout",
     "output_type": "stream",
     "text": [
      "['https://www.lendingclub.com/browse/loanDetail.action?loan_id=48010226'\n",
      " 'https://www.lendingclub.com/browse/loanDetail.action?loan_id=57693261'\n",
      " 'https://www.lendingclub.com/browse/loanDetail.action?loan_id=59432726' ...\n",
      " 'https://www.lendingclub.com/browse/loanDetail.action?loan_id=50415990'\n",
      " 'https://www.lendingclub.com/browse/loanDetail.action?loan_id=46154151'\n",
      " 'https://www.lendingclub.com/browse/loanDetail.action?loan_id=66055249']\n"
     ]
    }
   ],
   "source": [
    "print(loan_data_strings[:,5])\n"
   ]
  },
  {
   "cell_type": "code",
   "execution_count": 18,
   "id": "3dc3acbe",
   "metadata": {},
   "outputs": [
    {
     "name": "stdout",
     "output_type": "stream",
     "text": [
      "['48010226' '57693261' '59432726' ... '50415990' '46154151' '66055249']\n"
     ]
    }
   ],
   "source": [
    "loan_data_strings[:,5] = np.chararray.strip(loan_data_strings[:,5],\"https://www.lendingclub.com/browse/loanDetail.action?loan_id=\")\n",
    "print(loan_data_strings[:,5])"
   ]
  },
  {
   "cell_type": "code",
   "execution_count": 19,
   "id": "406b27bd",
   "metadata": {},
   "outputs": [
    {
     "name": "stdout",
     "output_type": "stream",
     "text": [
      "['id' 'issue_d' 'loan_amnt' 'loan_status' 'funded_amnt' 'term' 'int_rate' 'installment' 'grade'\n",
      " 'sub_grade' 'verification_status' 'url' 'addr_state' 'total_pymnt']\n"
     ]
    }
   ],
   "source": [
    "print(header_full)"
   ]
  },
  {
   "cell_type": "code",
   "execution_count": 20,
   "id": "2639072e",
   "metadata": {},
   "outputs": [
    {
     "name": "stdout",
     "output_type": "stream",
     "text": [
      "[48010226. 57693261. 59432726. ... 50415990. 46154151. 66055249.]\n",
      "['48010226' '57693261' '59432726' ... '50415990' '46154151' '66055249']\n"
     ]
    }
   ],
   "source": [
    "loan_data_numeric[:,0].astype(dtype = np.int32)\n",
    "loan_data_strings[:,5].astype(dtype = np.int32)\n",
    "print(loan_data_numeric[:,0])\n",
    "print(loan_data_strings[:,5])"
   ]
  },
  {
   "cell_type": "code",
   "execution_count": 21,
   "id": "7aec0751",
   "metadata": {},
   "outputs": [
    {
     "data": {
      "text/plain": [
       "True"
      ]
     },
     "execution_count": 21,
     "metadata": {},
     "output_type": "execute_result"
    }
   ],
   "source": [
    "np.array_equal(loan_data_numeric[:,0].astype(dtype = np.int32), loan_data_strings[:,5].astype(dtype = np.int32))"
   ]
  },
  {
   "cell_type": "code",
   "execution_count": 22,
   "id": "f5bd3e34",
   "metadata": {},
   "outputs": [],
   "source": [
    "loan_data_strings = np.delete(loan_data_strings, 5, axis = 1)\n",
    "header_strings = np.delete(header_strings,5)"
   ]
  },
  {
   "cell_type": "code",
   "execution_count": 23,
   "id": "d5649e73",
   "metadata": {},
   "outputs": [
    {
     "name": "stdout",
     "output_type": "stream",
     "text": [
      "['CA' 'NY' 'PA' ... 'CA' 'OH' 'IL']\n",
      "['issue_date' 'loan_status' 'term_months' 'sub_grade' 'verification_status' 'addr_state']\n"
     ]
    }
   ],
   "source": [
    "print(loan_data_strings[:,5])\n",
    "print(header_strings)"
   ]
  },
  {
   "cell_type": "markdown",
   "id": "59fde191",
   "metadata": {},
   "source": [
    "## Manipulating Text Data: State Address"
   ]
  },
  {
   "cell_type": "code",
   "execution_count": 24,
   "id": "7db9c80d",
   "metadata": {},
   "outputs": [],
   "source": [
    "header_strings[5] = \"state_address\""
   ]
  },
  {
   "cell_type": "code",
   "execution_count": 25,
   "id": "950a6a42",
   "metadata": {},
   "outputs": [
    {
     "data": {
      "text/plain": [
       "50"
      ]
     },
     "execution_count": 25,
     "metadata": {},
     "output_type": "execute_result"
    }
   ],
   "source": [
    "np.unique(loan_data_strings[:,5]).size"
   ]
  },
  {
   "cell_type": "code",
   "execution_count": 26,
   "id": "9b4705ee",
   "metadata": {},
   "outputs": [
    {
     "data": {
      "text/plain": [
       "(array(['CA', 'NY', 'TX', 'FL', '', 'IL', 'NJ', 'GA', 'PA', 'OH', 'MI', 'NC', 'VA', 'MD', 'AZ',\n",
       "        'WA', 'MA', 'CO', 'MO', 'MN', 'IN', 'WI', 'CT', 'TN', 'NV', 'AL', 'LA', 'OR', 'SC', 'KY',\n",
       "        'KS', 'OK', 'UT', 'AR', 'MS', 'NH', 'NM', 'WV', 'HI', 'RI', 'MT', 'DE', 'DC', 'WY', 'AK',\n",
       "        'NE', 'SD', 'VT', 'ND', 'ME'], dtype='<U69'),\n",
       " array([1336,  777,  758,  690,  500,  389,  341,  321,  320,  312,  267,  261,  242,  222,  220,\n",
       "         216,  210,  201,  160,  156,  152,  148,  143,  143,  130,  119,  116,  108,  107,   84,\n",
       "          84,   83,   74,   74,   61,   58,   57,   49,   44,   40,   28,   27,   27,   27,   26,\n",
       "          25,   24,   17,   16,   10]))"
      ]
     },
     "execution_count": 26,
     "metadata": {},
     "output_type": "execute_result"
    }
   ],
   "source": [
    "states_names, states_count = np.unique(loan_data_strings[:,5], return_counts = True)\n",
    "states_count_sorted = np.argsort(-states_count)\n",
    "states_names[states_count_sorted], states_count[states_count_sorted]"
   ]
  },
  {
   "cell_type": "code",
   "execution_count": 27,
   "id": "c07fcc9f",
   "metadata": {},
   "outputs": [],
   "source": [
    "loan_data_strings[:,5] = np.where(loan_data_strings[:,5] == '',\n",
    "                                  0,\n",
    "                                  loan_data_strings[:,5])"
   ]
  },
  {
   "cell_type": "code",
   "execution_count": 28,
   "id": "1d9356a9",
   "metadata": {},
   "outputs": [],
   "source": [
    "states_west = np.array(['WA', 'OR','CA','NV','ID','MT', 'WY','UT','CO', 'AZ','NM','HI','AK'])\n",
    "states_south = np.array(['TX','OK','AR','LA','MS','AL','TN','KY','FL','GA','SC','NC','VA','WV','MD','DE','DC'])\n",
    "states_midwest = np.array(['ND','SD','NE','KS','MN','IA','MO','WI','IL','IN','MI','OH'])\n",
    "states_east = np.array(['PA','NY','NJ','CT','MA','VT','NH','ME','RI'])"
   ]
  },
  {
   "cell_type": "code",
   "execution_count": 29,
   "id": "bc564fe0",
   "metadata": {},
   "outputs": [],
   "source": [
    "loan_data_strings[:,5] = np.where(np.isin(loan_data_strings[:,5], states_west), 1, loan_data_strings[:,5])\n",
    "loan_data_strings[:,5] = np.where(np.isin(loan_data_strings[:,5], states_south), 2, loan_data_strings[:,5])\n",
    "loan_data_strings[:,5] = np.where(np.isin(loan_data_strings[:,5], states_midwest), 3, loan_data_strings[:,5])\n",
    "loan_data_strings[:,5] = np.where(np.isin(loan_data_strings[:,5], states_east), 4, loan_data_strings[:,5])"
   ]
  },
  {
   "cell_type": "code",
   "execution_count": 30,
   "id": "5ad05b60",
   "metadata": {},
   "outputs": [
    {
     "data": {
      "text/plain": [
       "array(['0', '1', '2', '3', '4'], dtype='<U69')"
      ]
     },
     "execution_count": 30,
     "metadata": {},
     "output_type": "execute_result"
    }
   ],
   "source": [
    "np.unique(loan_data_strings[:,5])"
   ]
  },
  {
   "cell_type": "markdown",
   "id": "b634a9d0",
   "metadata": {},
   "source": [
    "## Manipulating Text Data: Converting Strings and Creating a Checkpoint"
   ]
  },
  {
   "cell_type": "code",
   "execution_count": 31,
   "id": "943d0a55",
   "metadata": {},
   "outputs": [
    {
     "data": {
      "text/plain": [
       "array([['5', '1', '36', '14', '1', '1'],\n",
       "       ['0', '1', '36', '6', '1', '4'],\n",
       "       ['9', '1', '36', '11', '1', '4'],\n",
       "       ...,\n",
       "       ['6', '1', '36', '6', '1', '1'],\n",
       "       ['4', '1', '36', '18', '1', '3'],\n",
       "       ['12', '1', '36', '5', '0', '3']], dtype='<U69')"
      ]
     },
     "execution_count": 31,
     "metadata": {},
     "output_type": "execute_result"
    }
   ],
   "source": [
    "loan_data_strings"
   ]
  },
  {
   "cell_type": "code",
   "execution_count": 32,
   "id": "37a03c3e",
   "metadata": {},
   "outputs": [
    {
     "name": "stderr",
     "output_type": "stream",
     "text": [
      "/var/folders/14/kmkw5ndj0kq_53pqzfg6fv2m0000gn/T/ipykernel_35611/648525481.py:1: DeprecationWarning: `np.int` is a deprecated alias for the builtin `int`. To silence this warning, use `int` by itself. Doing this will not modify any behavior and is safe. When replacing `np.int`, you may wish to use e.g. `np.int64` or `np.int32` to specify the precision. If you wish to review your current use, check the release note link for additional information.\n",
      "Deprecated in NumPy 1.20; for more details and guidance: https://numpy.org/devdocs/release/1.20.0-notes.html#deprecations\n",
      "  loan_data_strings = loan_data_strings.astype(np.int)\n"
     ]
    },
    {
     "data": {
      "text/plain": [
       "array([[ 5,  1, 36, 14,  1,  1],\n",
       "       [ 0,  1, 36,  6,  1,  4],\n",
       "       [ 9,  1, 36, 11,  1,  4],\n",
       "       ...,\n",
       "       [ 6,  1, 36,  6,  1,  1],\n",
       "       [ 4,  1, 36, 18,  1,  3],\n",
       "       [12,  1, 36,  5,  0,  3]])"
      ]
     },
     "execution_count": 32,
     "metadata": {},
     "output_type": "execute_result"
    }
   ],
   "source": [
    "loan_data_strings = loan_data_strings.astype(np.int)\n",
    "loan_data_strings"
   ]
  },
  {
   "cell_type": "code",
   "execution_count": 33,
   "id": "c49b02b2",
   "metadata": {},
   "outputs": [
    {
     "data": {
      "text/plain": [
       "array([[ 5,  1, 36, 14,  1,  1],\n",
       "       [ 0,  1, 36,  6,  1,  4],\n",
       "       [ 9,  1, 36, 11,  1,  4],\n",
       "       ...,\n",
       "       [ 6,  1, 36,  6,  1,  1],\n",
       "       [ 4,  1, 36, 18,  1,  3],\n",
       "       [12,  1, 36,  5,  0,  3]])"
      ]
     },
     "execution_count": 33,
     "metadata": {},
     "output_type": "execute_result"
    }
   ],
   "source": [
    "checkpoint_strings = checkpoint(\"Checkpoint-Strings\",header_strings,loan_data_strings)\n",
    "checkpoint_strings['header']\n",
    "checkpoint_strings['data']"
   ]
  },
  {
   "cell_type": "markdown",
   "id": "33b812fd",
   "metadata": {},
   "source": [
    "## Manipulating Numeric Data: Substitute filler values"
   ]
  },
  {
   "cell_type": "code",
   "execution_count": 34,
   "id": "a577c6cb",
   "metadata": {},
   "outputs": [
    {
     "data": {
      "text/plain": [
       "array([[48010226.  ,    35000.  ,    35000.  ,       13.33,     1184.86,     9452.96],\n",
       "       [57693261.  ,    30000.  ,    30000.  , 68616520.  ,      938.57,     4679.7 ],\n",
       "       [59432726.  ,    15000.  ,    15000.  , 68616520.  ,      494.86,     1969.83],\n",
       "       ...,\n",
       "       [50415990.  ,    10000.  ,    10000.  , 68616520.  , 68616520.  ,     2185.64],\n",
       "       [46154151.  , 68616520.  ,    10000.  ,       16.55,      354.3 ,     3199.4 ],\n",
       "       [66055249.  ,    10000.  ,    10000.  , 68616520.  ,      309.97,      301.9 ]])"
      ]
     },
     "execution_count": 34,
     "metadata": {},
     "output_type": "execute_result"
    }
   ],
   "source": [
    "loan_data_numeric"
   ]
  },
  {
   "cell_type": "code",
   "execution_count": 35,
   "id": "e5bc80bc",
   "metadata": {},
   "outputs": [
    {
     "data": {
      "text/plain": [
       "0"
      ]
     },
     "execution_count": 35,
     "metadata": {},
     "output_type": "execute_result"
    }
   ],
   "source": [
    "np.isnan(loan_data_numeric).sum()"
   ]
  },
  {
   "cell_type": "code",
   "execution_count": 36,
   "id": "80825f35",
   "metadata": {},
   "outputs": [
    {
     "name": "stdout",
     "output_type": "stream",
     "text": [
      "['id' 'loan_amnt' 'funded_amnt' 'int_rate' 'installment' 'total_pymnt']\n"
     ]
    }
   ],
   "source": [
    "print(header_numeric)"
   ]
  },
  {
   "cell_type": "code",
   "execution_count": 37,
   "id": "ba97f726",
   "metadata": {},
   "outputs": [
    {
     "data": {
      "text/plain": [
       "0"
      ]
     },
     "execution_count": 37,
     "metadata": {},
     "output_type": "execute_result"
    }
   ],
   "source": [
    "np.isin(loan_data_numeric[:,0], temporary_fill).sum()"
   ]
  },
  {
   "cell_type": "code",
   "execution_count": 38,
   "id": "8c8bf570",
   "metadata": {},
   "outputs": [
    {
     "name": "stdout",
     "output_type": "stream",
     "text": [
      "['id' 'loan_amnt' 'funded_amnt' 'int_rate' 'installment' 'total_pymnt']\n"
     ]
    }
   ],
   "source": [
    "print(header_numeric)"
   ]
  },
  {
   "cell_type": "code",
   "execution_count": 39,
   "id": "5309d04e",
   "metadata": {},
   "outputs": [
    {
     "name": "stdout",
     "output_type": "stream",
     "text": [
      "[[  373332.           nan     1000.           nan     1000.           nan        6.         31.42\n",
      "          nan         nan         nan         nan         nan        0.  ]\n",
      " [54015809.19         nan    15273.46         nan    15311.04         nan       16.62      440.92\n",
      "          nan         nan         nan         nan         nan     3143.85]\n",
      " [68616519.           nan    35000.           nan    35000.           nan       28.99     1372.97\n",
      "          nan         nan         nan         nan         nan    41913.62]]\n"
     ]
    }
   ],
   "source": [
    "print(temporary_stats)"
   ]
  },
  {
   "cell_type": "code",
   "execution_count": 40,
   "id": "f84b18c4",
   "metadata": {},
   "outputs": [
    {
     "name": "stdout",
     "output_type": "stream",
     "text": [
      "[[  373332.       1000.       1000.          6.         31.42        0.  ]\n",
      " [54015809.19    15273.46    15311.04       16.62      440.92     3143.85]\n",
      " [68616519.      35000.      35000.         28.99     1372.97    41913.62]]\n"
     ]
    }
   ],
   "source": [
    "print(temporary_stats[:,columns_numeric])"
   ]
  },
  {
   "cell_type": "code",
   "execution_count": 41,
   "id": "0f03608c",
   "metadata": {},
   "outputs": [
    {
     "name": "stdout",
     "output_type": "stream",
     "text": [
      "[35000. 30000. 15000. ... 10000. 10000. 10000.]\n"
     ]
    }
   ],
   "source": [
    "loan_data_numeric[:,2] = np.where(loan_data_numeric[:,2] == temporary_fill,\n",
    "                         temporary_stats[0, columns_numeric[2]],\n",
    "                         loan_data_numeric[:,2])\n",
    "print(loan_data_numeric[:,2])"
   ]
  },
  {
   "cell_type": "code",
   "execution_count": 42,
   "id": "b0939c92",
   "metadata": {},
   "outputs": [
    {
     "data": {
      "text/plain": [
       "nan"
      ]
     },
     "execution_count": 42,
     "metadata": {},
     "output_type": "execute_result"
    }
   ],
   "source": [
    "temporary_stats[0,3]"
   ]
  },
  {
   "cell_type": "code",
   "execution_count": 43,
   "id": "4029a649",
   "metadata": {},
   "outputs": [
    {
     "name": "stdout",
     "output_type": "stream",
     "text": [
      "6.0\n"
     ]
    }
   ],
   "source": [
    "print(temporary_stats[0, columns_numeric[3]])"
   ]
  },
  {
   "cell_type": "code",
   "execution_count": 44,
   "id": "4404673d",
   "metadata": {},
   "outputs": [
    {
     "name": "stdout",
     "output_type": "stream",
     "text": [
      "['id' 'loan_amnt' 'funded_amnt' 'int_rate' 'installment' 'total_pymnt']\n",
      "[[48010226.      35000.      35000.         13.33     1184.86     9452.96]\n",
      " [57693261.      30000.      30000.         28.99      938.57     4679.7 ]\n",
      " [59432726.      15000.      15000.         28.99      494.86     1969.83]\n",
      " ...\n",
      " [50415990.      10000.      10000.         28.99     1372.97     2185.64]\n",
      " [46154151.      35000.      10000.         16.55      354.3      3199.4 ]\n",
      " [66055249.      10000.      10000.         28.99      309.97      301.9 ]]\n"
     ]
    }
   ],
   "source": [
    "print(header_numeric)\n",
    "\n",
    "for i in [1,3,4,5]:\n",
    "    loan_data_numeric[:,i] = np.where(loan_data_numeric[:,i] == temporary_fill,\n",
    "    temporary_stats[2, columns_numeric[i]],\n",
    "    loan_data_numeric[:,i])\n",
    "    \n",
    "print(loan_data_numeric)"
   ]
  },
  {
   "cell_type": "markdown",
   "id": "508fb7d7",
   "metadata": {},
   "source": [
    "## Manipulating Numeric Data: Currency rate - The exchange rate"
   ]
  },
  {
   "cell_type": "code",
   "execution_count": 45,
   "id": "8665e4a6",
   "metadata": {},
   "outputs": [
    {
     "data": {
      "text/plain": [
       "array([1.13, 1.12, 1.08, 1.11, 1.1 , 1.12, 1.09, 1.13, 1.13, 1.1 , 1.06, 1.09])"
      ]
     },
     "execution_count": 45,
     "metadata": {},
     "output_type": "execute_result"
    }
   ],
   "source": [
    "EUR_USD = np.genfromtxt(r\"EUR-USD.csv\", delimiter = ',', autostrip = True, skip_header = 1, usecols = 3)\n",
    "EUR_USD"
   ]
  },
  {
   "cell_type": "code",
   "execution_count": 46,
   "id": "4448ed70",
   "metadata": {},
   "outputs": [
    {
     "data": {
      "text/plain": [
       "array([ 5,  0,  9, ...,  6,  4, 12])"
      ]
     },
     "execution_count": 46,
     "metadata": {},
     "output_type": "execute_result"
    }
   ],
   "source": [
    "loan_data_strings[:,0]"
   ]
  },
  {
   "cell_type": "code",
   "execution_count": 47,
   "id": "77fd9e8e",
   "metadata": {},
   "outputs": [
    {
     "data": {
      "text/plain": [
       "array([1.1 , 1.11, 1.13, ..., 1.12, 1.11, 1.09])"
      ]
     },
     "execution_count": 47,
     "metadata": {},
     "output_type": "execute_result"
    }
   ],
   "source": [
    "exchange_rate = loan_data_strings[:,0]\n",
    "\n",
    "for i in range(1,13):\n",
    "    exchange_rate = np.where(exchange_rate == i,\n",
    "                             EUR_USD[i-1],\n",
    "                             exchange_rate)\n",
    "\n",
    "exchange_rate = np.where(exchange_rate == 0, \n",
    "                         np.mean(EUR_USD), \n",
    "                         exchange_rate)\n",
    "\n",
    "exchange_rate"
   ]
  },
  {
   "cell_type": "code",
   "execution_count": 48,
   "id": "a27fe321",
   "metadata": {},
   "outputs": [
    {
     "data": {
      "text/plain": [
       "(10000,)"
      ]
     },
     "execution_count": 48,
     "metadata": {},
     "output_type": "execute_result"
    }
   ],
   "source": [
    "exchange_rate.shape"
   ]
  },
  {
   "cell_type": "code",
   "execution_count": 49,
   "id": "cacad51d",
   "metadata": {},
   "outputs": [
    {
     "data": {
      "text/plain": [
       "(10000, 6)"
      ]
     },
     "execution_count": 49,
     "metadata": {},
     "output_type": "execute_result"
    }
   ],
   "source": [
    "loan_data_numeric.shape"
   ]
  },
  {
   "cell_type": "code",
   "execution_count": 50,
   "id": "1c656ece",
   "metadata": {},
   "outputs": [],
   "source": [
    "exchange_rate = np.reshape(exchange_rate, (10000,1))"
   ]
  },
  {
   "cell_type": "code",
   "execution_count": 51,
   "id": "1eae916d",
   "metadata": {},
   "outputs": [],
   "source": [
    "loan_data_numeric = np.hstack((loan_data_numeric, exchange_rate))"
   ]
  },
  {
   "cell_type": "code",
   "execution_count": 52,
   "id": "0bdd518a",
   "metadata": {},
   "outputs": [
    {
     "data": {
      "text/plain": [
       "array(['id', 'loan_amnt', 'funded_amnt', 'int_rate', 'installment', 'total_pymnt', 'exchange_rate'],\n",
       "      dtype='<U19')"
      ]
     },
     "execution_count": 52,
     "metadata": {},
     "output_type": "execute_result"
    }
   ],
   "source": [
    "header_numeric = np.concatenate((header_numeric, np.array(['exchange_rate'])))\n",
    "header_numeric"
   ]
  },
  {
   "cell_type": "markdown",
   "id": "fc405e64",
   "metadata": {},
   "source": [
    "## Manipulating Numeric Data: Currency rate - From USD to EUR"
   ]
  },
  {
   "cell_type": "code",
   "execution_count": 53,
   "id": "2715bcb5",
   "metadata": {},
   "outputs": [
    {
     "data": {
      "text/plain": [
       "array(['id', 'loan_amnt', 'funded_amnt', 'int_rate', 'installment', 'total_pymnt', 'exchange_rate'],\n",
       "      dtype='<U19')"
      ]
     },
     "execution_count": 53,
     "metadata": {},
     "output_type": "execute_result"
    }
   ],
   "source": [
    "header_numeric"
   ]
  },
  {
   "cell_type": "code",
   "execution_count": 54,
   "id": "dc8c0dd0",
   "metadata": {},
   "outputs": [],
   "source": [
    "columns_dollar = np.array([1,2,4,5])"
   ]
  },
  {
   "cell_type": "code",
   "execution_count": 55,
   "id": "459de95b",
   "metadata": {},
   "outputs": [
    {
     "data": {
      "text/plain": [
       "array([1.1 , 1.11, 1.13, ..., 1.12, 1.11, 1.09])"
      ]
     },
     "execution_count": 55,
     "metadata": {},
     "output_type": "execute_result"
    }
   ],
   "source": [
    "loan_data_numeric[:,[columns_dollar]]\n",
    "loan_data_numeric[:,6]"
   ]
  },
  {
   "cell_type": "code",
   "execution_count": 56,
   "id": "0488c726",
   "metadata": {},
   "outputs": [],
   "source": [
    "for i in columns_dollar:\n",
    "    loan_data_numeric = np.hstack((loan_data_numeric, np.reshape(loan_data_numeric[:,i] / loan_data_numeric[:,6],(10000,1))))"
   ]
  },
  {
   "cell_type": "code",
   "execution_count": 57,
   "id": "0366fde0",
   "metadata": {},
   "outputs": [
    {
     "data": {
      "text/plain": [
       "(10000, 11)"
      ]
     },
     "execution_count": 57,
     "metadata": {},
     "output_type": "execute_result"
    }
   ],
   "source": [
    "loan_data_numeric.shape"
   ]
  },
  {
   "cell_type": "code",
   "execution_count": 58,
   "id": "f3c9ca2d",
   "metadata": {},
   "outputs": [],
   "source": [
    "header_additional = np.array([column_name + '_EUR' for column_name in header_numeric[columns_dollar]])"
   ]
  },
  {
   "cell_type": "code",
   "execution_count": 59,
   "id": "f94625c5",
   "metadata": {},
   "outputs": [
    {
     "data": {
      "text/plain": [
       "array(['loan_amnt_EUR', 'funded_amnt_EUR', 'installment_EUR', 'total_pymnt_EUR'], dtype='<U15')"
      ]
     },
     "execution_count": 59,
     "metadata": {},
     "output_type": "execute_result"
    }
   ],
   "source": [
    "header_additional"
   ]
  },
  {
   "cell_type": "code",
   "execution_count": 60,
   "id": "fe1132ac",
   "metadata": {},
   "outputs": [],
   "source": [
    "header_numeric = np.concatenate((header_numeric, header_additional))"
   ]
  },
  {
   "cell_type": "code",
   "execution_count": 61,
   "id": "0029eb0e",
   "metadata": {},
   "outputs": [
    {
     "data": {
      "text/plain": [
       "array(['id', 'loan_amnt', 'funded_amnt', 'int_rate', 'installment', 'total_pymnt', 'exchange_rate',\n",
       "       'loan_amnt_EUR', 'funded_amnt_EUR', 'installment_EUR', 'total_pymnt_EUR'], dtype='<U19')"
      ]
     },
     "execution_count": 61,
     "metadata": {},
     "output_type": "execute_result"
    }
   ],
   "source": [
    "header_numeric"
   ]
  },
  {
   "cell_type": "code",
   "execution_count": 62,
   "id": "210a4907",
   "metadata": {},
   "outputs": [],
   "source": [
    "header_numeric[columns_dollar] = np.array([column_name + '_USD' for column_name in header_numeric[columns_dollar]])"
   ]
  },
  {
   "cell_type": "code",
   "execution_count": 63,
   "id": "92775891",
   "metadata": {},
   "outputs": [
    {
     "data": {
      "text/plain": [
       "array(['id', 'loan_amnt_USD', 'funded_amnt_USD', 'int_rate', 'installment_USD', 'total_pymnt_USD',\n",
       "       'exchange_rate', 'loan_amnt_EUR', 'funded_amnt_EUR', 'installment_EUR', 'total_pymnt_EUR'],\n",
       "      dtype='<U19')"
      ]
     },
     "execution_count": 63,
     "metadata": {},
     "output_type": "execute_result"
    }
   ],
   "source": [
    "header_numeric"
   ]
  },
  {
   "cell_type": "code",
   "execution_count": 64,
   "id": "7934ec69",
   "metadata": {},
   "outputs": [],
   "source": [
    "columns_index_order = [0,1,7,2,8,3,4,9,5,10,6]"
   ]
  },
  {
   "cell_type": "code",
   "execution_count": 65,
   "id": "8baccabe",
   "metadata": {},
   "outputs": [],
   "source": [
    "header_numeric = header_numeric[columns_index_order]"
   ]
  },
  {
   "cell_type": "code",
   "execution_count": 66,
   "id": "279eed24",
   "metadata": {},
   "outputs": [],
   "source": [
    "loan_data_numeric = loan_data_numeric[:,columns_index_order]"
   ]
  },
  {
   "cell_type": "code",
   "execution_count": 67,
   "id": "3ef5db55",
   "metadata": {},
   "outputs": [
    {
     "data": {
      "text/plain": [
       "array([[48010226.  ,    35000.  ,    31933.3 , ...,     9452.96,     8624.69,        1.1 ],\n",
       "       [57693261.  ,    30000.  ,    27132.46, ...,     4679.7 ,     4232.39,        1.11],\n",
       "       [59432726.  ,    15000.  ,    13326.3 , ...,     1969.83,     1750.04,        1.13],\n",
       "       ...,\n",
       "       [50415990.  ,    10000.  ,     8910.3 , ...,     2185.64,     1947.47,        1.12],\n",
       "       [46154151.  ,    35000.  ,    31490.9 , ...,     3199.4 ,     2878.63,        1.11],\n",
       "       [66055249.  ,    10000.  ,     9145.8 , ...,      301.9 ,      276.11,        1.09]])"
      ]
     },
     "execution_count": 67,
     "metadata": {},
     "output_type": "execute_result"
    }
   ],
   "source": [
    "loan_data_numeric"
   ]
  },
  {
   "cell_type": "code",
   "execution_count": 68,
   "id": "12428dba",
   "metadata": {},
   "outputs": [
    {
     "data": {
      "text/plain": [
       "array([13.33, 28.99, 28.99, ..., 28.99, 16.55, 28.99])"
      ]
     },
     "execution_count": 68,
     "metadata": {},
     "output_type": "execute_result"
    }
   ],
   "source": [
    "loan_data_numeric[:,5]"
   ]
  },
  {
   "cell_type": "code",
   "execution_count": 69,
   "id": "5e00dcf7",
   "metadata": {},
   "outputs": [],
   "source": [
    "loan_data_numeric[:,5] = loan_data_numeric[:,5]/100"
   ]
  },
  {
   "cell_type": "code",
   "execution_count": 70,
   "id": "10ec99ac",
   "metadata": {},
   "outputs": [
    {
     "data": {
      "text/plain": [
       "array([0.13, 0.29, 0.29, ..., 0.29, 0.17, 0.29])"
      ]
     },
     "execution_count": 70,
     "metadata": {},
     "output_type": "execute_result"
    }
   ],
   "source": [
    "loan_data_numeric[:,5]"
   ]
  },
  {
   "cell_type": "code",
   "execution_count": 71,
   "id": "7308e7d3",
   "metadata": {},
   "outputs": [
    {
     "data": {
      "text/plain": [
       "array([[48010226.  ,    35000.  ,    31933.3 , ...,     9452.96,     8624.69,        1.1 ],\n",
       "       [57693261.  ,    30000.  ,    27132.46, ...,     4679.7 ,     4232.39,        1.11],\n",
       "       [59432726.  ,    15000.  ,    13326.3 , ...,     1969.83,     1750.04,        1.13],\n",
       "       ...,\n",
       "       [50415990.  ,    10000.  ,     8910.3 , ...,     2185.64,     1947.47,        1.12],\n",
       "       [46154151.  ,    35000.  ,    31490.9 , ...,     3199.4 ,     2878.63,        1.11],\n",
       "       [66055249.  ,    10000.  ,     9145.8 , ...,      301.9 ,      276.11,        1.09]])"
      ]
     },
     "execution_count": 71,
     "metadata": {},
     "output_type": "execute_result"
    }
   ],
   "source": [
    "checkpoint_numeric = checkpoint(\"Checkpoint-Numeric\", header_numeric, loan_data_numeric)\n",
    "checkpoint_numeric['header']\n",
    "checkpoint_numeric['data']"
   ]
  },
  {
   "cell_type": "markdown",
   "id": "6e599090",
   "metadata": {},
   "source": [
    "## Completing the Dataset"
   ]
  },
  {
   "cell_type": "code",
   "execution_count": 72,
   "id": "8eff6701",
   "metadata": {},
   "outputs": [
    {
     "data": {
      "text/plain": [
       "(10000, 6)"
      ]
     },
     "execution_count": 72,
     "metadata": {},
     "output_type": "execute_result"
    }
   ],
   "source": [
    "checkpoint_strings['data'].shape"
   ]
  },
  {
   "cell_type": "code",
   "execution_count": 73,
   "id": "a8a6b972",
   "metadata": {},
   "outputs": [
    {
     "data": {
      "text/plain": [
       "(10000, 11)"
      ]
     },
     "execution_count": 73,
     "metadata": {},
     "output_type": "execute_result"
    }
   ],
   "source": [
    "checkpoint_numeric['data'].shape"
   ]
  },
  {
   "cell_type": "code",
   "execution_count": 74,
   "id": "9c3fc221",
   "metadata": {},
   "outputs": [
    {
     "data": {
      "text/plain": [
       "(10000, 17)"
      ]
     },
     "execution_count": 74,
     "metadata": {},
     "output_type": "execute_result"
    }
   ],
   "source": [
    "np.hstack((checkpoint_numeric['data'], checkpoint_strings['data'])).shape"
   ]
  },
  {
   "cell_type": "code",
   "execution_count": 75,
   "id": "137c0391",
   "metadata": {},
   "outputs": [],
   "source": [
    "loan_data = np.hstack((checkpoint_numeric['data'], checkpoint_strings['data']))"
   ]
  },
  {
   "cell_type": "code",
   "execution_count": 76,
   "id": "9a7da76c",
   "metadata": {},
   "outputs": [
    {
     "data": {
      "text/plain": [
       "array([[48010226.  ,    35000.  ,    31933.3 , ...,       14.  ,        1.  ,        1.  ],\n",
       "       [57693261.  ,    30000.  ,    27132.46, ...,        6.  ,        1.  ,        4.  ],\n",
       "       [59432726.  ,    15000.  ,    13326.3 , ...,       11.  ,        1.  ,        4.  ],\n",
       "       ...,\n",
       "       [50415990.  ,    10000.  ,     8910.3 , ...,        6.  ,        1.  ,        1.  ],\n",
       "       [46154151.  ,    35000.  ,    31490.9 , ...,       18.  ,        1.  ,        3.  ],\n",
       "       [66055249.  ,    10000.  ,     9145.8 , ...,        5.  ,        0.  ,        3.  ]])"
      ]
     },
     "execution_count": 76,
     "metadata": {},
     "output_type": "execute_result"
    }
   ],
   "source": [
    "loan_data"
   ]
  },
  {
   "cell_type": "code",
   "execution_count": 77,
   "id": "9e87538c",
   "metadata": {},
   "outputs": [
    {
     "data": {
      "text/plain": [
       "0"
      ]
     },
     "execution_count": 77,
     "metadata": {},
     "output_type": "execute_result"
    }
   ],
   "source": [
    "np.isnan(loan_data).sum()"
   ]
  },
  {
   "cell_type": "code",
   "execution_count": 78,
   "id": "5ddb1067",
   "metadata": {
    "scrolled": true
   },
   "outputs": [
    {
     "data": {
      "text/plain": [
       "array(['id', 'loan_amnt_USD', 'loan_amnt_EUR', 'funded_amnt_USD', 'funded_amnt_EUR', 'int_rate',\n",
       "       'installment_USD', 'installment_EUR', 'total_pymnt_USD', 'total_pymnt_EUR', 'exchange_rate',\n",
       "       'issue_date', 'loan_status', 'term_months', 'sub_grade', 'verification_status',\n",
       "       'state_address'], dtype='<U19')"
      ]
     },
     "execution_count": 78,
     "metadata": {},
     "output_type": "execute_result"
    }
   ],
   "source": [
    "np.concatenate((checkpoint_numeric['header'], checkpoint_strings['header']))"
   ]
  },
  {
   "cell_type": "code",
   "execution_count": 79,
   "id": "9b53c3b1",
   "metadata": {},
   "outputs": [],
   "source": [
    "header_full = np.concatenate((checkpoint_numeric['header'], checkpoint_strings['header']))"
   ]
  },
  {
   "cell_type": "code",
   "execution_count": 80,
   "id": "9f808bee",
   "metadata": {},
   "outputs": [],
   "source": [
    "loan_data = loan_data[np.argsort(loan_data[:,0])]"
   ]
  },
  {
   "cell_type": "code",
   "execution_count": 81,
   "id": "63ab56e1",
   "metadata": {},
   "outputs": [
    {
     "data": {
      "text/plain": [
       "array([   0,    1,    2, ..., 9997, 9998, 9999])"
      ]
     },
     "execution_count": 81,
     "metadata": {},
     "output_type": "execute_result"
    }
   ],
   "source": [
    "np.argsort(loan_data[:,0])"
   ]
  },
  {
   "cell_type": "markdown",
   "id": "d2637a0b",
   "metadata": {},
   "source": [
    "## Storing the new Dataset"
   ]
  },
  {
   "cell_type": "code",
   "execution_count": 82,
   "id": "c31674fc",
   "metadata": {},
   "outputs": [],
   "source": [
    "loan_data = np.vstack((header_full, loan_data))\n",
    "np.savetxt(\"Loan-Data-Preprocessed.csv\", loan_data, fmt = '%s',delimiter = ',')\n"
   ]
  },
  {
   "cell_type": "code",
   "execution_count": null,
   "id": "9b20f20d",
   "metadata": {},
   "outputs": [],
   "source": []
  }
 ],
 "metadata": {
  "kernelspec": {
   "display_name": "Python 3 (ipykernel)",
   "language": "python",
   "name": "python3"
  },
  "language_info": {
   "codemirror_mode": {
    "name": "ipython",
    "version": 3
   },
   "file_extension": ".py",
   "mimetype": "text/x-python",
   "name": "python",
   "nbconvert_exporter": "python",
   "pygments_lexer": "ipython3",
   "version": "3.9.7"
  }
 },
 "nbformat": 4,
 "nbformat_minor": 5
}
